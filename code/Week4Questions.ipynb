{
 "cells": [
  {
   "cell_type": "code",
   "execution_count": 299,
   "metadata": {},
   "outputs": [
    {
     "data": {
      "text/plain": [
       "'\\nQuestions 1-8 should be answered by building a 15-period binomial model whose parameters should be calibrated to a \\nBlack-Scholes geometric Brownian motion model with: T=0.25, S0=100, r = 2%, σ=30%,\\n\\nand a dividend yield of c=1%.\\n\\nQ1: Compute the price of an American call option with strike K=110 and maturity T=.25 years.\\n\\nAns: 2.60\\n\\nQ2: Compute the price of an American put option with strike K=110 and maturity T=.25 years.\\n\\nAns: 12.36\\n\\nQ3: Is it ever optimal to early exercise the put option of Question 2?\\n\\nAns: Yes\\n\\nQ4: If your answer to Question 3 is \"Yes\", when is the earliest period at which it might be optimal to early \\nexercise? (If your answer to Question 3 is \"No\", then you should submit an answer of 15 since exercising after \\n15 periods is not an early exercise.)\\n\\nAns: 5\\n\\nQ5: Do the call and put option prices of Questions 1 and 2 satisfy put-call parity?\\n\\nAns: No\\n\\nQ6: Compute the fair value of an American call option with strike K=110 and maturity n=10 periods where the \\noption is written on a futures contract that expires after 15 periods. The futures contract is on the same \\nunderlying security of the previous questions.\\n\\nAns: 1.65\\n\\nQ7: What is the earliest time period in which you might want to exercise the American futures option of Question 6?\\n\\nAns: 7\\n\\nQ8: Compute the fair value of a chooser option which expires after n=10 periods. At expiration the owner of \\nthe chooser gets to choose (at no cost) a European call option or a European put option. The call and put each have\\nstrike K=100 and they mature 5 periods later, i.e. at n=15.\\n\\nAns: 10.81\\n\\n'"
      ]
     },
     "execution_count": 299,
     "metadata": {},
     "output_type": "execute_result"
    }
   ],
   "source": [
    "# Financial Engineering and Risk Management Part I week 4 Quiz\n",
    "\"\"\"\n",
    "Questions 1-8 should be answered by building a 15-period binomial model whose parameters should be calibrated to a \n",
    "Black-Scholes geometric Brownian motion model with: T=0.25, S0=100, r = 2%, σ=30%,\n",
    "\n",
    "and a dividend yield of c=1%.\n",
    "\n",
    "Q1: Compute the price of an American call option with strike K=110 and maturity T=.25 years.\n",
    "\n",
    "Ans: 2.60\n",
    "\n",
    "Q2: Compute the price of an American put option with strike K=110 and maturity T=.25 years.\n",
    "\n",
    "Ans: 12.36\n",
    "\n",
    "Q3: Is it ever optimal to early exercise the put option of Question 2?\n",
    "\n",
    "Ans: Yes\n",
    "\n",
    "Q4: If your answer to Question 3 is \"Yes\", when is the earliest period at which it might be optimal to early \n",
    "exercise? (If your answer to Question 3 is \"No\", then you should submit an answer of 15 since exercising after \n",
    "15 periods is not an early exercise.)\n",
    "\n",
    "Ans: 5\n",
    "\n",
    "Q5: Do the call and put option prices of Questions 1 and 2 satisfy put-call parity?\n",
    "\n",
    "Ans: No\n",
    "\n",
    "Q6: Compute the fair value of an American call option with strike K=110 and maturity n=10 periods where the \n",
    "option is written on a futures contract that expires after 15 periods. The futures contract is on the same \n",
    "underlying security of the previous questions.\n",
    "\n",
    "Ans: 1.65\n",
    "\n",
    "Q7: What is the earliest time period in which you might want to exercise the American futures option of Question 6?\n",
    "\n",
    "Ans: 7\n",
    "\n",
    "Q8: Compute the fair value of a chooser option which expires after n=10 periods. At expiration the owner of \n",
    "the chooser gets to choose (at no cost) a European call option or a European put option. The call and put each have\n",
    "strike K=100 and they mature 5 periods later, i.e. at n=15.\n",
    "\n",
    "Ans: 10.81\n",
    "\n",
    "\"\"\""
   ]
  },
  {
   "cell_type": "code",
   "execution_count": 300,
   "metadata": {},
   "outputs": [],
   "source": [
    "import math\n",
    "import numpy as np"
   ]
  },
  {
   "cell_type": "code",
   "execution_count": 301,
   "metadata": {},
   "outputs": [],
   "source": [
    "def getU(sigma,T,period):\n",
    "    return math.exp(sigma*math.sqrt(T/period))\n",
    "\n",
    "def getRReal(r, T, period):\n",
    "    return math.exp(-r * T / period)\n",
    "\n",
    "def getQ(r, c, sigma, T, period):\n",
    "    u = getU(sigma, T, period)\n",
    "    d = 1/u\n",
    "    return (math.exp((r-c) * T / period)-d)/(u-d)\n"
   ]
  },
  {
   "cell_type": "code",
   "execution_count": 302,
   "metadata": {},
   "outputs": [],
   "source": [
    "# binomial tree\n",
    "def binomialTree(S0, period, sigma, T):\n",
    "    tree = np.zeros((period+1, period+1))\n",
    "    u = getU(sigma,T,period)\n",
    "    d = 1/u\n",
    "    for i in range(0,period+1):\n",
    "        for j in range(0,i+1):\n",
    "            tree[i][j] = S0 * (u ** j) * (d ** (i - j))\n",
    "    return tree\n",
    "\n",
    "def discount(lattice, period, q, r, call_put=1, earlyEx=False, K=0):\n",
    "    tree = np.zeros((period+1, period+1))\n",
    "    tree[period] = np.copy(lattice[period][0:period+1])\n",
    "    \n",
    "    inv_q = 1 - q\n",
    "    \n",
    "    earliest_execise = period + 1;\n",
    "    \n",
    "    for i in range(period-1,-1,-1):\n",
    "        for j in range(0,i+1):                 \n",
    "            tree[i][j] = r * (q * tree[i+1][j+1] + inv_q * tree[i+1][j])\n",
    "            if earlyEx == True:\n",
    "                if (call_put*(lattice[i][j] - K)) > tree[i][j]:\n",
    "                    earliest_execise = min(earliest_execise, i)\n",
    "                tree[i][j] = max(tree[i][j], call_put*(lattice[i][j] - K))\n",
    "    if earliest_execise <= period:\n",
    "        print(\"Earlist execise at time \", earliest_execise)\n",
    "    return tree\n",
    "    "
   ]
  },
  {
   "cell_type": "code",
   "execution_count": 303,
   "metadata": {},
   "outputs": [],
   "source": [
    "# Futures Lattice\n",
    "def futurePrice(lattice, T, period, sigma, r, c=0):\n",
    "    if isinstance(lattice, int):\n",
    "        lattice = binomialTree(lattice, period, sigma, T)\n",
    "    \n",
    "    q = getQ(r, c, sigma, T, period)\n",
    "    \n",
    "    return discount(lattice, period, q, 1)"
   ]
  },
  {
   "cell_type": "code",
   "execution_count": 304,
   "metadata": {},
   "outputs": [],
   "source": [
    "# Option Lattice\n",
    "def optionPrice(spot, T, period, sigma, K, r, c=0, call_put=1, option_type='A'):\n",
    "    option_lattice = np.copy(spot[0:period+1][0:period+1])\n",
    "    for i in range(0, period+1):\n",
    "        option_lattice[period][i] = max(call_put * (spot[period][i] - K), 0)\n",
    "    \n",
    "    r_real = getRReal(r, T, period)\n",
    "    \n",
    "    q = getQ(r, c, sigma, T, period)\n",
    "    return discount(option_lattice, period, q, r_real, call_put,option_type=='A', K)"
   ]
  },
  {
   "cell_type": "code",
   "execution_count": 305,
   "metadata": {},
   "outputs": [],
   "source": [
    "# Constant\n",
    "S0    = 100     # initial price\n",
    "T     = 0.25    # years\n",
    "sigma = 0.3     # volatility 30%\n",
    "r     = 0.02    # risk free rate \n",
    "c     = 0.01    # dividend yield\n",
    "\n",
    "# Question 1\n",
    "def question1():\n",
    "    period = 15            # number of period\n",
    "    future_expiration=15   # future expireation, number of period\n",
    "    call_put = 1           # 1 for call, -1 for put\n",
    "    K = 110                # strike price\n",
    "    option_expiration = 15 # option expireation, number of period\n",
    "    option_type = 'A'      # option type, A for American, E for European\n",
    "    \n",
    "    spot_price = binomialTree(S0, period, sigma, T)\n",
    "    option_price = optionPrice(spot_price, T, option_expiration, sigma, K, r, c, call_put, option_type)\n",
    "    print(option_price[0][0])\n",
    "    \n",
    "def question2():\n",
    "    period = 15            # number of period\n",
    "    future_expiration=15   # future expireation, number of period\n",
    "    call_put = -1          # 1 for call, -1 for put\n",
    "    K = 110                # strike price\n",
    "    option_expiration = 15 # option expireation, number of period\n",
    "    option_type = 'A'      # option type, A for American, E for European\n",
    "    \n",
    "    spot_price = binomialTree(S0, period, sigma, T)\n",
    "    option_price = optionPrice(spot_price, T, option_expiration, sigma, K, r, c, call_put, option_type)\n",
    "    print(option_price[0][0])\n",
    "    \n",
    "\"\"\"\n",
    "Based on the result of Quetion 2, Question 3, 4 and 5 should be \n",
    "Question 3: YES\n",
    "Question 4: 5\n",
    "Question 5: No\n",
    "\"\"\"\n",
    "\n",
    "def question6():\n",
    "    period = 15            # number of period\n",
    "    future_expiration=15   # future expireation, number of period\n",
    "    call_put = 1           # 1 for call, -1 for put\n",
    "    K = 110                # strike price\n",
    "    option_expiration = 10 # option expireation, number of period\n",
    "    option_type = 'A'      # option type, A for American, E for European\n",
    "    \n",
    "    spot_price = binomialTree(S0, period, sigma, T)\n",
    "    future_price = futurePrice(spot_price, T, future_expiration, sigma, r)\n",
    "    option_price = optionPrice(future_price, T, option_expiration, sigma, K, r, c, call_put, option_type)\n",
    "    print(option_price[0][0])\n",
    "\n",
    "\"\"\"\n",
    "Question 7 is based on the output of the Question 6\n",
    "Question 7 : 7\n",
    "\"\"\"\n",
    "\n",
    "def question8():\n",
    "    period = 10            # number of period\n",
    "    future_expiration=15   # future expireation, number of period\n",
    "    K = 100                # strike price\n",
    "    option_expiration = 15 # option expireation, number of period\n",
    "    option_type = 'E'      # option type, A for American, E for European\n",
    "    \n",
    "    spot_price = binomialTree(S0, future_expiration, sigma, T)\n",
    "    call_option = optionPrice(spot_price, T, option_expiration, sigma, K, r, c, 1, option_type)\n",
    "    put_option = optionPrice(spot_price, T, option_expiration, sigma, K, r, c, -1, option_type)\n",
    "    \n",
    "    option = np.zeros((period+1, period+1))\n",
    "    \n",
    "    # find maximum value of each step\n",
    "    for i in range(0,period+1):\n",
    "        for j in range(0,i+1):\n",
    "            option[i][j] = max(call_option[i][j], put_option[i][j])\n",
    "    \n",
    "    r_real = getRReal(r, T, future_expiration)\n",
    "    q = getQ(r, c, sigma, T, future_expiration)\n",
    "\n",
    "    # calculate the new result from new strategy\n",
    "    tree = discount(option, period, q, r_real)\n",
    "    print(tree[0][0])\n",
    "    "
   ]
  },
  {
   "cell_type": "code",
   "execution_count": 306,
   "metadata": {},
   "outputs": [
    {
     "name": "stdout",
     "output_type": "stream",
     "text": [
      "2.60407713296656\n"
     ]
    }
   ],
   "source": [
    "question1()"
   ]
  },
  {
   "cell_type": "code",
   "execution_count": 307,
   "metadata": {},
   "outputs": [
    {
     "name": "stdout",
     "output_type": "stream",
     "text": [
      "Earlist execise at time  5\n",
      "12.359784797284908\n"
     ]
    }
   ],
   "source": [
    "question2()"
   ]
  },
  {
   "cell_type": "code",
   "execution_count": 308,
   "metadata": {},
   "outputs": [
    {
     "name": "stdout",
     "output_type": "stream",
     "text": [
      "Earlist execise at time  7\n",
      "1.6491314221548758\n"
     ]
    }
   ],
   "source": [
    "question6()"
   ]
  },
  {
   "cell_type": "code",
   "execution_count": 309,
   "metadata": {},
   "outputs": [
    {
     "name": "stdout",
     "output_type": "stream",
     "text": [
      "10.812447011754466\n"
     ]
    }
   ],
   "source": [
    "question8()"
   ]
  },
  {
   "cell_type": "code",
   "execution_count": null,
   "metadata": {},
   "outputs": [],
   "source": []
  }
 ],
 "metadata": {
  "kernelspec": {
   "display_name": "Python 3",
   "language": "python",
   "name": "python3"
  },
  "language_info": {
   "codemirror_mode": {
    "name": "ipython",
    "version": 3
   },
   "file_extension": ".py",
   "mimetype": "text/x-python",
   "name": "python",
   "nbconvert_exporter": "python",
   "pygments_lexer": "ipython3",
   "version": "3.7.7"
  }
 },
 "nbformat": 4,
 "nbformat_minor": 4
}
