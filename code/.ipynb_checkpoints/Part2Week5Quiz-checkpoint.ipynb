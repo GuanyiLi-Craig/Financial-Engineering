{
 "cells": [
  {
   "cell_type": "code",
   "execution_count": 25,
   "metadata": {},
   "outputs": [],
   "source": [
    "import numpy as np\n",
    "import math\n",
    "from scipy.stats import norm\n",
    "import pandas as pd\n",
    "import matplotlib.pyplot as plt"
   ]
  },
  {
   "cell_type": "code",
   "execution_count": 36,
   "metadata": {},
   "outputs": [
    {
     "name": "stdout",
     "output_type": "stream",
     "text": [
      "[[1.00e+00 2.00e-01]\n",
      " [2.00e+00 2.00e-01]\n",
      " [3.00e+00 6.00e-02]\n",
      " [4.00e+00 3.00e-01]\n",
      " [5.00e+00 4.00e-01]\n",
      " [6.00e+00 6.50e-01]\n",
      " [7.00e+00 3.00e-01]\n",
      " [8.00e+00 2.30e-01]\n",
      " [9.00e+00 2.00e-02]\n",
      " [1.00e+01 1.20e-01]\n",
      " [1.10e+01 1.34e-01]\n",
      " [1.20e+01 2.10e-01]\n",
      " [1.30e+01 8.00e-02]\n",
      " [1.40e+01 1.00e-01]\n",
      " [1.50e+01 1.00e-01]\n",
      " [1.60e+01 2.00e-02]\n",
      " [1.70e+01 3.00e-01]\n",
      " [1.80e+01 1.50e-02]\n",
      " [1.90e+01 2.00e-01]\n",
      " [2.00e+01 3.00e-02]]\n"
     ]
    }
   ],
   "source": [
    "data = pd.read_csv('part2week5data.csv')\n",
    "npData = data.to_numpy()\n",
    "print(npData)"
   ]
  },
  {
   "cell_type": "code",
   "execution_count": 37,
   "metadata": {},
   "outputs": [
    {
     "data": {
      "image/png": "[encoded data removed]",
      "text/plain": [
       "<Figure size 432x288 with 1 Axes>"
      ]
     },
     "metadata": {
      "needs_background": "light"
     },
     "output_type": "display_data"
    },
    {
     "name": "stdout",
     "output_type": "stream",
     "text": [
      "[1.09891113e-02 6.45624252e-02 1.62882822e-01 2.39908618e-01\n",
      " 2.34009981e-01 1.61664317e-01 8.23351417e-02 3.16963775e-02\n",
      " 9.36724594e-03 2.14387057e-03 3.81327164e-04 5.26585732e-05\n",
      " 5.61552617e-06 4.57889557e-07 2.81199404e-08 1.27291051e-09\n",
      " 4.12157876e-11 9.14832636e-13 1.30513743e-14 1.06691685e-16\n",
      " 3.76854770e-19]\n"
     ]
    }
   ],
   "source": [
    "def getDefaultProbability(prob, num, showPlot = False):\n",
    "    tree = np.zeros((num+1, num+1))\n",
    "    tree[0][0] = 1.0 - prob[0]\n",
    "    tree[0][1] = prob[0]\n",
    "    for i in range(1, num):\n",
    "        tree[i][0] = tree[i-1][0] * (1.0 - prob[i])\n",
    "        for j in range(1, num):\n",
    "            tree[i][j] = tree[i-1][j-1] * prob[i] + tree[i-1][j] * (1.0 - prob[i])\n",
    "        tree[i][i+1] = tree[i-1][i] * prob[i]\n",
    "    \n",
    "    if showPlot == True:\n",
    "        plt.plot(tree[num-1])\n",
    "        plt.show()  \n",
    "    return tree[num-1]\n",
    "\n",
    "t = getDefaultProbability(npData[:, 1], 20, True)\n",
    "print(t)"
   ]
  },
  {
   "cell_type": "code",
   "execution_count": null,
   "metadata": {},
   "outputs": [],
   "source": [
    "def trancheLoss(n, m, num):\n",
    "    ans = 0\n",
    "    for i in range(n, m):\n",
    "        ans = ans + (i-n)*t[i]\n",
    "        \n",
    "    for i in range(m, num):\n",
    "        ans = ans + (m - n)*t[i]\n",
    "        \n",
    "    return ans"
   ]
  },
  {
   "cell_type": "code",
   "execution_count": 38,
   "metadata": {},
   "outputs": [
    {
     "name": "stdout",
     "output_type": "stream",
     "text": [
      "0.163\n"
     ]
    }
   ],
   "source": [
    "def question1():\n",
    "    print(round(t[2],3))\n",
    "\n",
    "question1()"
   ]
  },
  {
   "cell_type": "code",
   "execution_count": 39,
   "metadata": {},
   "outputs": [
    {
     "name": "stdout",
     "output_type": "stream",
     "text": [
      "3.67\n"
     ]
    }
   ],
   "source": [
    "def question2():\n",
    "    ans = 0\n",
    "    for i in range(0, 20+1):\n",
    "        ans = ans + i * t[i]\n",
    "    print(round(ans,2))\n",
    "    return ans\n",
    "\n",
    "E = question2()"
   ]
  },
  {
   "cell_type": "code",
   "execution_count": 40,
   "metadata": {},
   "outputs": [
    {
     "name": "stdout",
     "output_type": "stream",
     "text": [
      "2.54\n"
     ]
    },
    {
     "data": {
      "text/plain": [
       "2.535219"
      ]
     },
     "execution_count": 40,
     "metadata": {},
     "output_type": "execute_result"
    }
   ],
   "source": [
    "def question3():\n",
    "    ans = 0\n",
    "    for i in range(0, 20 + 1):\n",
    "        ans = ans + (i-E)**2 * t[i]\n",
    "    print(round(ans, 2))\n",
    "\n",
    "question3()"
   ]
  },
  {
   "cell_type": "code",
   "execution_count": null,
   "metadata": {},
   "outputs": [],
   "source": [
    "def question4():\n",
    "    ans = trancheLoss(0, 2, 20)\n",
    "    print(round(ans,2))"
   ]
  },
  {
   "cell_type": "code",
   "execution_count": null,
   "metadata": {},
   "outputs": [],
   "source": []
  }
 ],
 "metadata": {
  "kernelspec": {
   "display_name": "Python 3",
   "language": "python",
   "name": "python3"
  },
  "language_info": {
   "codemirror_mode": {
    "name": "ipython",
    "version": 3
   },
   "file_extension": ".py",
   "mimetype": "text/x-python",
   "name": "python",
   "nbconvert_exporter": "python",
   "pygments_lexer": "ipython3",
   "version": "3.7.7"
  }
 },
 "nbformat": 4,
 "nbformat_minor": 4
}
