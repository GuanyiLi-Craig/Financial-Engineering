{
 "cells": [
  {
   "cell_type": "code",
   "execution_count": 1,
   "metadata": {},
   "outputs": [],
   "source": [
    "import numpy as np\n",
    "import math\n",
    "from pricing_models import PassThroughMBS, present_value, duration"
   ]
  },
  {
   "cell_type": "code",
   "execution_count": 3,
   "metadata": {},
   "outputs": [
    {
     "name": "stdout",
     "output_type": "stream",
     "text": [
      "2147.286492048559\n"
     ]
    }
   ],
   "source": [
    "def question1():\n",
    "    m0 = 400000\n",
    "    r = 0.05 / 12\n",
    "    T = 30 * 12\n",
    "    \n",
    "    B = m0 * r * (1 + r)**T/((1 + r)**T - 1)\n",
    "    print(B)\n",
    "    \n",
    "question1()"
   ]
  },
  {
   "cell_type": "code",
   "execution_count": 3,
   "metadata": {},
   "outputs": [
    {
     "name": "stdout",
     "output_type": "stream",
     "text": [
      "171.18\n",
      "181.09\n"
     ]
    }
   ],
   "source": [
    "def question2and3():\n",
    "    P = 400\n",
    "    T = 20\n",
    "    acr = 0.06\n",
    "    ptr = 0.05\n",
    "    pm = 100\n",
    "    \n",
    "    mortgage_pool = PassThroughMBS(P=P,\n",
    "                              T=T,\n",
    "                              loan_r=acr,\n",
    "                              pass_r=ptr,\n",
    "                              PSA=pm)\n",
    "\n",
    "    print(round(mortgage_pool.data['Interest Paid'].sum(), 2))\n",
    "    print(round(mortgage_pool.data['Prepayment Amount'].sum(), 2))\n",
    "    \n",
    "\n",
    "question2and3()"
   ]
  },
  {
   "cell_type": "code",
   "execution_count": 4,
   "metadata": {},
   "outputs": [
    {
     "name": "stdout",
     "output_type": "stream",
     "text": [
      "268.15\n"
     ]
    }
   ],
   "source": [
    "def question4():\n",
    "    P = 400\n",
    "    T = 20\n",
    "    acr = 0.06\n",
    "    ptr = 0.05\n",
    "    pm = 200\n",
    "    \n",
    "    mortgage_pool = PassThroughMBS(P=P,\n",
    "                              T=T,\n",
    "                              loan_r=acr,\n",
    "                              pass_r=ptr,\n",
    "                              PSA=pm)\n",
    "\n",
    "    print(round(mortgage_pool.data['Prepayment Amount'].sum(), 2))\n",
    "    \n",
    "question4()"
   ]
  },
  {
   "cell_type": "code",
   "execution_count": 3,
   "metadata": {},
   "outputs": [
    {
     "name": "stdout",
     "output_type": "stream",
     "text": [
      "280.1\n",
      "133.23\n",
      "6.01\n",
      "7.17\n"
     ]
    }
   ],
   "source": [
    "def question5678():\n",
    "    P = 400\n",
    "    T = 20\n",
    "    acr = 0.06\n",
    "    ptr = 0.05\n",
    "    pm = 100\n",
    "    rate = 0.045\n",
    "    \n",
    "    mortgage_pool = PassThroughMBS(P=P,\n",
    "                              T=T,\n",
    "                              loan_r=acr,\n",
    "                              pass_r=ptr,\n",
    "                              PSA=pm)\n",
    "\n",
    "    cash_flows_po = mortgage_pool.data['Principal Paid']\n",
    "    rate = 0.045 / 12\n",
    "    pv = float(present_value(flows=cash_flows_po, discount_rate=rate))\n",
    "    print(round(pv, 2))\n",
    "    \n",
    "    cash_flows_io = mortgage_pool.data['Interest Paid']\n",
    "    pv_r45 = float(present_value(flows=cash_flows_io, discount_rate=rate))\n",
    "    print(round(pv_r45, 2))\n",
    "    print(round(duration(cash_flows_io) / 12, 2))\n",
    "\n",
    "    rate = 0.035 / 12\n",
    "    pv_r35 = float(present_value(flows=cash_flows_io, discount_rate=rate))\n",
    "    print(round(pv_r35 - pv_r45, 2))\n",
    "    \n",
    "    newPm = 150\n",
    "    new_mortgage_pool = PassThroughMBS(P=P,\n",
    "                              T=T,\n",
    "                              loan_r=acr,\n",
    "                              pass_r=ptr,\n",
    "                              PSA=newPm)\n",
    "    new_cash_flows_io = new_mortgage_pool.data['Interest Paid']\n",
    "    pv_p150 = float(present_value(flows=new_cash_flows_io, discount_rate=rate))\n",
    "    print(round(pv_p150 - pv_r45, 2))\n",
    "    \n",
    "    \n",
    "question5678()"
   ]
  },
  {
   "cell_type": "code",
   "execution_count": null,
   "metadata": {},
   "outputs": [],
   "source": []
  }
 ],
 "metadata": {
  "kernelspec": {
   "display_name": "Python 3",
   "language": "python",
   "name": "python3"
  },
  "language_info": {
   "codemirror_mode": {
    "name": "ipython",
    "version": 3
   },
   "file_extension": ".py",
   "mimetype": "text/x-python",
   "name": "python",
   "nbconvert_exporter": "python",
   "pygments_lexer": "ipython3",
   "version": "3.7.7"
  }
 },
 "nbformat": 4,
 "nbformat_minor": 4
}
