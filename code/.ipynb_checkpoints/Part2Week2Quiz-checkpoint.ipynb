{
 "cells": [
  {
   "cell_type": "code",
   "execution_count": 2,
   "metadata": {},
   "outputs": [],
   "source": [
    "import numpy as np\n",
    "import math\n",
    "import pandas as pd\n",
    "from scipy.special import comb\n",
    "from pricing_models import MeanVarianceReturn"
   ]
  },
  {
   "cell_type": "code",
   "execution_count": 3,
   "metadata": {},
   "outputs": [],
   "source": [
    "data = pd.read_csv('part2week2data.csv')\n",
    "npData = data.to_numpy()\n",
    "rf = 0.01"
   ]
  },
  {
   "cell_type": "code",
   "execution_count": 4,
   "metadata": {
    "scrolled": false
   },
   "outputs": [
    {
     "name": "stdout",
     "output_type": "stream",
     "text": [
      "[-0.51864  4.70574 -0.69862]\n",
      "[[ 0.00564681 -0.00202191  0.00372701]\n",
      " [-0.00202191  0.00218696 -0.00222756]\n",
      " [ 0.00372701 -0.00222756  0.00743372]]\n"
     ]
    }
   ],
   "source": [
    "mu = np.average(npData, axis=0)*12\n",
    "print(mu)\n",
    "mut = np.average(npData, axis=0)\n",
    "cov = (np.cov((npData/100 - mut/100).T))*12\n",
    "print(cov)"
   ]
  },
  {
   "cell_type": "code",
   "execution_count": 9,
   "metadata": {},
   "outputs": [
    {
     "name": "stdout",
     "output_type": "stream",
     "text": [
      "(6.1788221157645395, 0.050000002332534)\n",
      "5.504686066900383\n"
     ]
    }
   ],
   "source": [
    "def question12():\n",
    "    oriMu = np.array([6.0, 2.0, 4.0])\n",
    "    x = np.array([1/4, 1/4, 1/4, 1/4])\n",
    "    model = MeanVarianceReturn(mu, cov, x)\n",
    "    optimalX = model.maxReturnWithRiskless(riskFreeRate=rf, volatilityUpperLimit=0.05)\n",
    "    print(model.getReturnVolatiltiyWithRiskFree(optimalX.x, rf))\n",
    "    print(sum(optimalX.x[:oriMu.size]*oriMu) + rf * optimalX.x.item(oriMu.size))\n",
    "    \n",
    "question12()"
   ]
  },
  {
   "cell_type": "code",
   "execution_count": 10,
   "metadata": {},
   "outputs": [
    {
     "name": "stdout",
     "output_type": "stream",
     "text": [
      "1.29\n"
     ]
    }
   ],
   "source": [
    "def question3():\n",
    "    prob = 0.9\n",
    "    loss = np.average(npData, axis=1) * -1\n",
    "    loss.sort()\n",
    "    ind = prob * loss.size -1\n",
    "    print(round(loss.item(int(ind)),2))\n",
    "    \n",
    "question3()"
   ]
  },
  {
   "cell_type": "code",
   "execution_count": 44,
   "metadata": {},
   "outputs": [
    {
     "name": "stdout",
     "output_type": "stream",
     "text": [
      "2.16\n"
     ]
    }
   ],
   "source": [
    "def question4():\n",
    "    prob = 0.9\n",
    "    loss = np.average(npData, axis=1) * -1\n",
    "    loss.sort()\n",
    "    s = 0\n",
    "    ind = 0.9 * loss.size -1\n",
    "    for i in range(int(ind), loss.size):\n",
    "        s += loss.item(i)\n",
    "        \n",
    "    ans = s / (1 - prob) / loss.size\n",
    "    print(round(ans,2))\n",
    "\n",
    "question4()"
   ]
  },
  {
   "cell_type": "code",
   "execution_count": 41,
   "metadata": {},
   "outputs": [
    {
     "name": "stdout",
     "output_type": "stream",
     "text": [
      "0.017578125\n"
     ]
    }
   ],
   "source": [
    "def question5():\n",
    "    n = 12\n",
    "    total = 15\n",
    "    p = 0.5\n",
    "    ans = 0\n",
    "    for i in range(n,total + 1):\n",
    "        ans += comb(total, i) * p**i * (1-p)**(total-i)\n",
    "    print(round(ans,4))\n",
    "\n",
    "question5()"
   ]
  },
  {
   "cell_type": "code",
   "execution_count": 34,
   "metadata": {},
   "outputs": [
    {
     "name": "stdout",
     "output_type": "stream",
     "text": [
      "0.00048828125\n",
      "0.047666556568750074\n"
     ]
    }
   ],
   "source": [
    "def question6():\n",
    "    n = 14\n",
    "    total = 15\n",
    "    p = 0.5\n",
    "    ans = 0\n",
    "    m = 100\n",
    "    for i in range(n,total + 1):\n",
    "        ans += comb(total, i) * p**i * (1-p)**(total-i)\n",
    "    print(round(1 - (1 - ans)**m, 4))\n",
    "\n",
    "question6()"
   ]
  },
  {
   "cell_type": "code",
   "execution_count": null,
   "metadata": {},
   "outputs": [],
   "source": []
  }
 ],
 "metadata": {
  "kernelspec": {
   "display_name": "Python 3",
   "language": "python",
   "name": "python3"
  },
  "language_info": {
   "codemirror_mode": {
    "name": "ipython",
    "version": 3
   },
   "file_extension": ".py",
   "mimetype": "text/x-python",
   "name": "python",
   "nbconvert_exporter": "python",
   "pygments_lexer": "ipython3",
   "version": "3.7.7"
  }
 },
 "nbformat": 4,
 "nbformat_minor": 4
}
