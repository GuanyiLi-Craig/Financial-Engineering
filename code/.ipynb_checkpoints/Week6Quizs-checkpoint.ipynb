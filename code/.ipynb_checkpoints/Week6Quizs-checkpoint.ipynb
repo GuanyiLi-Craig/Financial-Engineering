{
 "cells": [
  {
   "cell_type": "code",
   "execution_count": 1,
   "metadata": {},
   "outputs": [],
   "source": [
    "import math\n",
    "import numpy as np\n",
    "from pricing_models import SwapsPricing, OptionsPricing, BDTRate, StockPricing, BondPricing\n"
   ]
  },
  {
   "cell_type": "code",
   "execution_count": 2,
   "metadata": {},
   "outputs": [],
   "source": [
    "# Question 1\n",
    "def question1Solver():\n",
    "    # model calibrate\n",
    "    iterations = 200\n",
    "    error_threshold = 1e-8\n",
    "    r = np.array([3.0, 3.1, 3.2, 3.3, 3.4, 3.5, 3.55, 3.6, 3.65, 3.7]) / 100\n",
    "    n = 10\n",
    "    b = 0.05\n",
    "    q = 0.5\n",
    "    rates, error = BDTRate.calibrate(n, q, b, r, iterations)\n",
    "    \n",
    "    # calcaulate the price\n",
    "    N = 1000000\n",
    "    fixed_rate = 0.039\n",
    "    start_time = 4\n",
    "    is_long = 1\n",
    "\n",
    "    swap_pricing = SwapsPricing(n, q, fixed_rate, start_time, is_long, rates)\n",
    "\n",
    "    n_options = 3\n",
    "    strike = 0\n",
    "\n",
    "    option_pricing = OptionsPricing(n_options, swap_pricing, rates, q, strike)\n",
    "    print(round(option_pricing.price * N))"
   ]
  },
  {
   "cell_type": "code",
   "execution_count": 3,
   "metadata": {},
   "outputs": [
    {
     "name": "stderr",
     "output_type": "stream",
     "text": [
      "D:\\Software\\Anaconda\\envs\\financial engineering\\lib\\site-packages\\scipy\\optimize\\nonlin.py:1004: RuntimeWarning: divide by zero encountered in true_divide\n",
      "  d = v / vdot(df, v)\n"
     ]
    },
    {
     "name": "stdout",
     "output_type": "stream",
     "text": [
      "4102\n"
     ]
    },
    {
     "name": "stderr",
     "output_type": "stream",
     "text": [
      "D:\\Software\\Anaconda\\envs\\financial engineering\\lib\\site-packages\\scipy\\optimize\\nonlin.py:774: RuntimeWarning: invalid value encountered in multiply\n",
      "  self.collapsed += c[:,None] * d[None,:].conj()\n"
     ]
    }
   ],
   "source": [
    "question1Solver()\n"
   ]
  },
  {
   "cell_type": "code",
   "execution_count": 4,
   "metadata": {},
   "outputs": [],
   "source": [
    "def question2Solver():\n",
    "    # model calibrate\n",
    "    iterations = 200\n",
    "    error_threshold = 1e-8\n",
    "    r = np.array([3.0, 3.1, 3.2, 3.3, 3.4, 3.5, 3.55, 3.6, 3.65, 3.7]) / 100\n",
    "    n = 10\n",
    "    b = 0.1\n",
    "    q = 0.5\n",
    "    rates, error = BDTRate.calibrate(n, q, b, r, iterations)\n",
    "    \n",
    "    # calcaulate the price\n",
    "    N = 1000000\n",
    "    fixed_rate = 0.039\n",
    "    start_time = 4\n",
    "    is_long = 1\n",
    "\n",
    "    swap_pricing = SwapsPricing(n, q, fixed_rate, start_time, is_long, rates)\n",
    "\n",
    "    n_options = 3\n",
    "    strike = 0\n",
    "\n",
    "    option_pricing = OptionsPricing(n_options, swap_pricing, rates, q, strike)\n",
    "    print(round(option_pricing.price * N))"
   ]
  },
  {
   "cell_type": "code",
   "execution_count": 5,
   "metadata": {
    "scrolled": true
   },
   "outputs": [
    {
     "name": "stdout",
     "output_type": "stream",
     "text": [
      "8097\n"
     ]
    }
   ],
   "source": [
    "question2Solver()"
   ]
  },
  {
   "cell_type": "code",
   "execution_count": 10,
   "metadata": {},
   "outputs": [],
   "source": [
    "def question3():\n",
    "    n = 10\n",
    "    r0 = 0.05\n",
    "    u = 1.1\n",
    "    d = 0.9\n",
    "    q = 0.5\n",
    "\n",
    "    rates = StockPricing(n, r0, u, d)\n",
    "\n",
    "    hazard = {\n",
    "        'a': 0.01,\n",
    "        'b': 1.01,\n",
    "        'recovery_rate': 0.2\n",
    "    }\n",
    "    F = 100\n",
    "    coupon = 0.0\n",
    "\n",
    "    bond_pricing = BondPricing(n, F, q, rates, coupon, hazard)\n",
    "\n",
    "    print(round(bond_pricing.price, 2))"
   ]
  },
  {
   "cell_type": "code",
   "execution_count": 11,
   "metadata": {},
   "outputs": [
    {
     "name": "stdout",
     "output_type": "stream",
     "text": [
      "[[ 57.21685824   0.           0.           0.           0.\n",
      "    0.           0.           0.           0.           0.\n",
      "    0.        ]\n",
      " [ 63.03366138  57.93139145   0.           0.           0.\n",
      "    0.           0.           0.           0.           0.\n",
      "    0.        ]\n",
      " [ 68.59493948  64.06743792  59.00264201   0.           0.\n",
      "    0.           0.           0.           0.           0.\n",
      "    0.        ]\n",
      " [ 73.83792362  69.93560612  65.49626478  60.51707365   0.\n",
      "    0.           0.           0.           0.           0.\n",
      "    0.        ]\n",
      " [ 78.71996046  75.46359102  71.70525359  67.41597523  62.58655393\n",
      "    0.           0.           0.           0.           0.\n",
      "    0.        ]\n",
      " [ 83.21668032  80.60184532  77.54654815  74.00732972  69.95035301\n",
      "   65.35829575   0.           0.           0.           0.\n",
      "    0.        ]\n",
      " [ 87.31937569  85.3216686   82.96297936  80.19589702  76.9751208\n",
      "   73.26181949  69.02946872   0.           0.           0.\n",
      "    0.        ]\n",
      " [ 91.0320425   89.61229863  87.92124965  85.9161047   83.55176794\n",
      "   80.78289498  77.56703197  73.86902372   0.           0.\n",
      "    0.        ]\n",
      " [ 94.36842305  93.47755328  92.40866486  91.12986585  89.60550074\n",
      "   87.79663112  85.66204888  83.16000868  80.25086692   0.\n",
      "    0.        ]\n",
      " [ 97.34927585  96.93243837  96.42928459  95.82284691  95.09338554\n",
      "   94.21820044  93.17156543  91.9248601   90.44699569  88.705248\n",
      "    0.        ]\n",
      " [100.         100.         100.         100.         100.\n",
      "  100.         100.         100.         100.         100.\n",
      "  100.        ]]\n",
      "57.22\n"
     ]
    }
   ],
   "source": [
    "question3()"
   ]
  },
  {
   "cell_type": "code",
   "execution_count": 64,
   "metadata": {},
   "outputs": [
    {
     "name": "stdout",
     "output_type": "stream",
     "text": [
      "1.76\n"
     ]
    }
   ],
   "source": [
    "def question4():\n",
    "    print(1.76)\n",
    "\n",
    "question4()"
   ]
  },
  {
   "cell_type": "code",
   "execution_count": 40,
   "metadata": {},
   "outputs": [
    {
     "name": "stdout",
     "output_type": "stream",
     "text": [
      "301.51\n"
     ]
    }
   ],
   "source": [
    "def question5():\n",
    "    print(301.51)\n",
    "    \n",
    "question5()"
   ]
  },
  {
   "cell_type": "code",
   "execution_count": null,
   "metadata": {},
   "outputs": [],
   "source": []
  }
 ],
 "metadata": {
  "kernelspec": {
   "display_name": "Python 3",
   "language": "python",
   "name": "python3"
  },
  "language_info": {
   "codemirror_mode": {
    "name": "ipython",
    "version": 3
   },
   "file_extension": ".py",
   "mimetype": "text/x-python",
   "name": "python",
   "nbconvert_exporter": "python",
   "pygments_lexer": "ipython3",
   "version": "3.7.7"
  }
 },
 "nbformat": 4,
 "nbformat_minor": 4
}
