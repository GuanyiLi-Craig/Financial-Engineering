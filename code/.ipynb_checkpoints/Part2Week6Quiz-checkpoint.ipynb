{
 "cells": [
  {
   "cell_type": "code",
   "execution_count": 3,
   "metadata": {},
   "outputs": [],
   "source": [
    "import numpy as np\n",
    "import math\n",
    "from scipy.stats import norm\n",
    "import pandas as pd\n",
    "import matplotlib.pyplot as plt\n",
    "from pricing_models import LeasePrice, StockPricing"
   ]
  },
  {
   "cell_type": "code",
   "execution_count": 4,
   "metadata": {},
   "outputs": [],
   "source": [
    "produce = 10000\n",
    "cost = 200\n",
    "goldPrice = 400\n",
    "u = 1.2\n",
    "d = 0.9\n",
    "p = 0.75\n",
    "invP = 0.25\n",
    "n = 10\n",
    "q = 2/3\n",
    "interestRate = 1.1\n",
    "\n",
    "newProduce = 14000\n",
    "newCost = 240\n",
    "equipCost = 5000000\n",
    "period = 5\n",
    "\n",
    "lattice = StockPricing(n, goldPrice, u, d)"
   ]
  },
  {
   "cell_type": "code",
   "execution_count": 5,
   "metadata": {},
   "outputs": [
    {
     "name": "stdout",
     "output_type": "stream",
     "text": [
      "30.264\n"
     ]
    }
   ],
   "source": [
    "def question1():\n",
    "    produce = 14000\n",
    "    cost = 240\n",
    "    lease = LeasePrice(n, q, produce, interestRate, cost, lattice)\n",
    "    print(round(lease.price/1000000, 3))\n",
    "\n",
    "question1()"
   ]
  },
  {
   "cell_type": "code",
   "execution_count": 7,
   "metadata": {},
   "outputs": [
    {
     "name": "stdout",
     "output_type": "stream",
     "text": [
      "25.48\n"
     ]
    }
   ],
   "source": [
    "def question2():\n",
    "    leaseEquip = LeasePrice(n, q, produce, interestRate, cost, lattice, newProduce, newCost, period)\n",
    "    tree = leaseEquip.adjustPrice(equipCost)\n",
    "    print(round(tree[0, 0]/1000000, 3))\n",
    "    \n",
    "question2()"
   ]
  },
  {
   "cell_type": "code",
   "execution_count": 10,
   "metadata": {},
   "outputs": [
    {
     "name": "stdout",
     "output_type": "stream",
     "text": [
      "25.48\n",
      "25.113\n",
      "24.709\n",
      "24.315\n",
      "24.088\n"
     ]
    }
   ],
   "source": [
    "def question3():\n",
    "    lease = LeasePrice(n, q, produce, interestRate, cost, lattice)\n",
    "    print(round(lease.price/1000000, 3))\n",
    "    leaseEquip = LeasePrice(n, q, produce, interestRate, cost, lattice, newProduce, newCost, 5)\n",
    "    tree = leaseEquip.adjustPrice(equipCost)\n",
    "    print(round(tree[0, 0]/1000000, 3))\n",
    "    leaseEquip = LeasePrice(n, q, produce, interestRate, cost, lattice, newProduce, newCost, 6)\n",
    "    tree = leaseEquip.adjustPrice(equipCost)\n",
    "    print(round(tree[0, 0]/1000000, 3))\n",
    "    leaseEquip = LeasePrice(n, q, produce, interestRate, cost, lattice, newProduce, newCost, 7)\n",
    "    tree = leaseEquip.adjustPrice(equipCost)\n",
    "    print(round(tree[0, 0]/1000000, 3))\n",
    "    leaseEquip = LeasePrice(n, q, produce, interestRate, cost, lattice, newProduce, newCost, 8)\n",
    "    tree = leaseEquip.adjustPrice(equipCost)\n",
    "    print(round(tree[0, 0]/1000000, 3))\n",
    "    leaseEquip = LeasePrice(n, q, produce, interestRate, cost, lattice, newProduce, newCost, 9)\n",
    "    tree = leaseEquip.adjustPrice(equipCost)\n",
    "    print(round(tree[0, 0]/1000000, 3))\n",
    "\n",
    "question3()"
   ]
  },
  {
   "cell_type": "code",
   "execution_count": null,
   "metadata": {},
   "outputs": [],
   "source": []
  }
 ],
 "metadata": {
  "kernelspec": {
   "display_name": "Python 3",
   "language": "python",
   "name": "python3"
  },
  "language_info": {
   "codemirror_mode": {
    "name": "ipython",
    "version": 3
   },
   "file_extension": ".py",
   "mimetype": "text/x-python",
   "name": "python",
   "nbconvert_exporter": "python",
   "pygments_lexer": "ipython3",
   "version": "3.7.7"
  }
 },
 "nbformat": 4,
 "nbformat_minor": 4
}
