{
 "cells": [
  {
   "cell_type": "code",
   "execution_count": 5,
   "metadata": {},
   "outputs": [],
   "source": [
    "import numpy as np\n",
    "import math\n",
    "from scipy.stats import norm\n",
    "import pandas as pd"
   ]
  },
  {
   "cell_type": "code",
   "execution_count": 6,
   "metadata": {},
   "outputs": [],
   "source": [
    "# 0: period number\n",
    "# 1: demo stock price\n",
    "# 2-5: stock price path 1 - 4\n",
    "data = pd.read_csv('part2week3data.csv')\n",
    "npData = data.to_numpy()\n",
    "\n",
    "initialStockPrice = 50\n",
    "expiration = 0.25\n",
    "impliedVolatility = 0.3\n",
    "riskFreeRate = 0.02\n",
    "strike= 50\n",
    "numOfOptions = 100000\n",
    "numHedgingPeriod = 50\n"
   ]
  },
  {
   "cell_type": "code",
   "execution_count": 40,
   "metadata": {},
   "outputs": [],
   "source": [
    "def getD1(stockPrice, period):\n",
    "    dt = expiration / numHedgingPeriod\n",
    "    T = expiration - period * dt\n",
    "    d1 = (math.log(stockPrice / strike) + (riskFreeRate + (impliedVolatility**2)/2) * T) / (impliedVolatility * math.sqrt(T))\n",
    "    return d1\n",
    "\n",
    "def getD2(period, d1):\n",
    "    dt = expiration / numHedgingPeriod\n",
    "    T = expiration - period * dt\n",
    "    d2 = d1 - impliedVolatility * math.sqrt(T)\n",
    "    return d2\n",
    "\n",
    "def getDelta(d1):\n",
    "    delta = norm(0,1).cdf(d1)\n",
    "    return delta\n",
    "\n",
    "def getInitialCallOptionPrice(stockPrice, period):\n",
    "    dt = expiration / numHedgingPeriod\n",
    "    T = expiration - period * dt\n",
    "    d1 = getD1(stockPrice, period)\n",
    "    d2 = getD2(period, d1)\n",
    "    c = stockPrice*norm(0,1).cdf(d1) - strike * math.exp(-riskFreeRate * T) * norm(0,1).cdf(d2)\n",
    "    return c\n",
    "\n",
    "def getOptionPrice(prevPrice, delta, stockPrice, prevStockPrice, factor):\n",
    "    price = prevPrice + delta * (stockPrice - prevStockPrice) + (prevPrice - delta * prevStockPrice) * factor\n",
    "    return price\n",
    "\n",
    "def getCashAccountPosition(value, stockPrice, delta):\n",
    "    cash = value - delta * numOfOptions * stockPrice\n",
    "    return cash\n",
    "\n",
    "def getLogReturn(s0, s1):\n",
    "    l = math.log(s1 / s0)\n",
    "    return l"
   ]
  },
  {
   "cell_type": "code",
   "execution_count": 61,
   "metadata": {},
   "outputs": [
    {
     "name": "stdout",
     "output_type": "stream",
     "text": [
      "0.33794342711050235\n",
      "0.24901388231924843\n",
      "55393.577111129765\n"
     ]
    }
   ],
   "source": [
    "def getDemoResult():\n",
    "    demoStockPrices = npData[:, 1]\n",
    "    d1s = np.zeros(numHedgingPeriod +1)\n",
    "    heldStock = np.zeros(numHedgingPeriod + 1)\n",
    "    cashAccount = np.zeros(numHedgingPeriod + 1)\n",
    "    sfPortFolioValue = np.zeros(numHedgingPeriod + 1)\n",
    "    logReturn = np.zeros(numHedgingPeriod + 1)\n",
    "    d1s[0] = getD1(demoStockPrices[0], 0)\n",
    "    heldStock[0] = getDelta(d1s[0]) * numOfOptions\n",
    "    sfPortFolioValue[0] = getInitialCallOptionPrice(demoStockPrices[0], 0) * numOfOptions\n",
    "    cashAccount[0] = getCashAccountPosition(sfPortFolioValue[0], demoStockPrices[0], getDelta(d1s[0]))\n",
    "    dt = expiration / numHedgingPeriod\n",
    "    factor = math.exp(riskFreeRate * dt) - 1\n",
    "    for i in range(1, numHedgingPeriod + 1):\n",
    "        if i != numHedgingPeriod: \n",
    "            d1s[i] = getD1(demoStockPrices[i], i)\n",
    "            heldStock[i] = getDelta(d1s[i]) * numOfOptions\n",
    "        sfPortFolioValue[i] = getOptionPrice(sfPortFolioValue[i-1], heldStock[i-1], demoStockPrices[i], demoStockPrices[i-1], factor)\n",
    "        #sfPortFolioValue[i] = getInitialCallOptionPrice(demoStockPrices[i], i)\n",
    "        if i != numHedgingPeriod: \n",
    "            cashAccount[i] = getCashAccountPosition(sfPortFolioValue[i], demoStockPrices[i], getDelta(d1s[i]))\n",
    "        logReturn[i] = getLogReturn(demoStockPrices[i-1], demoStockPrices[i])\n",
    "    \n",
    "    #print(d1s)\n",
    "    #print(sfPortFolioValue)\n",
    "    #print(heldStock)\n",
    "    #print(cashAccount)\n",
    "    #print(logReturn)\n",
    "    \n",
    "    print(logReturn.sum()/expiration)\n",
    "    a = logReturn[1:]\n",
    "    print(np.std(a, ddof=1) * np.sqrt(200))\n",
    "    \n",
    "    b = sfPortFolioValue[numHedgingPeriod] - (demoStockPrices[numHedgingPeriod] - strike) * numOfOptions\n",
    "    \n",
    "    print(b)\n",
    "\n",
    "getDemoResult()"
   ]
  },
  {
   "cell_type": "code",
   "execution_count": 65,
   "metadata": {},
   "outputs": [
    {
     "name": "stdout",
     "output_type": "stream",
     "text": [
      "25.42\n",
      "225724.9814583868\n",
      "225725\n",
      "--- \n",
      "30.36\n",
      "-20263.07277392695\n",
      "-20263\n",
      "--- \n",
      "51.57\n",
      "-122866.99316143291\n",
      "-122867\n",
      "--- \n",
      "40.14\n",
      "595693.9004106119\n",
      "595694\n",
      "--- \n"
     ]
    }
   ],
   "source": [
    "def questions(stocPrices):\n",
    "    d1s = np.zeros(numHedgingPeriod +1)\n",
    "    heldStock = np.zeros(numHedgingPeriod + 1)\n",
    "    cashAccount = np.zeros(numHedgingPeriod + 1)\n",
    "    sfPortFolioValue = np.zeros(numHedgingPeriod + 1)\n",
    "    logReturn = np.zeros(numHedgingPeriod + 1)\n",
    "    d1s[0] = getD1(stocPrices[0], 0)\n",
    "    heldStock[0] = getDelta(d1s[0]) * numOfOptions\n",
    "    sfPortFolioValue[0] = getInitialCallOptionPrice(stocPrices[0], 0) * numOfOptions\n",
    "    cashAccount[0] = getCashAccountPosition(sfPortFolioValue[0], stocPrices[0], getDelta(d1s[0]))\n",
    "    dt = expiration / numHedgingPeriod\n",
    "    factor = math.exp(riskFreeRate * dt) - 1\n",
    "    for i in range(1, numHedgingPeriod + 1):\n",
    "        if i != numHedgingPeriod: \n",
    "            d1s[i] = getD1(stocPrices[i], i)\n",
    "            heldStock[i] = getDelta(d1s[i]) * numOfOptions\n",
    "        sfPortFolioValue[i] = getOptionPrice(sfPortFolioValue[i-1], heldStock[i-1], stocPrices[i], stocPrices[i-1], factor)\n",
    "        if i != numHedgingPeriod: \n",
    "            cashAccount[i] = getCashAccountPosition(sfPortFolioValue[i], stocPrices[i], getDelta(d1s[i]))\n",
    "        logReturn[i] = getLogReturn(stocPrices[i-1], stocPrices[i])\n",
    "    \n",
    "    #print(d1s)\n",
    "    #print(sfPortFolioValue)\n",
    "    #print(heldStock)\n",
    "    #print(cashAccount)\n",
    "    #print(logReturn)\n",
    "    \n",
    "    # print(logReturn.sum()/expiration)\n",
    "    a = logReturn[1:]\n",
    "    ans = np.std(a, ddof=1) * np.sqrt(200)\n",
    "    print(round(ans*100,2))\n",
    "    \n",
    "    b = sfPortFolioValue[numHedgingPeriod] - max(stocPrices[numHedgingPeriod] - strike, 0) * numOfOptions\n",
    "    print(b)\n",
    "    print(round(b))\n",
    "    print(\"--- \")\n",
    "    \n",
    "\n",
    "questions(npData[:, 2])\n",
    "questions(npData[:, 3])\n",
    "questions(npData[:, 4])\n",
    "questions(npData[:, 5])"
   ]
  },
  {
   "cell_type": "code",
   "execution_count": null,
   "metadata": {},
   "outputs": [],
   "source": []
  },
  {
   "cell_type": "code",
   "execution_count": null,
   "metadata": {},
   "outputs": [],
   "source": []
  }
 ],
 "metadata": {
  "kernelspec": {
   "display_name": "Python 3",
   "language": "python",
   "name": "python3"
  },
  "language_info": {
   "codemirror_mode": {
    "name": "ipython",
    "version": 3
   },
   "file_extension": ".py",
   "mimetype": "text/x-python",
   "name": "python",
   "nbconvert_exporter": "python",
   "pygments_lexer": "ipython3",
   "version": "3.7.7"
  }
 },
 "nbformat": 4,
 "nbformat_minor": 4
}
