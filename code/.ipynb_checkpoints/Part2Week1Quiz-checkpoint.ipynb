{
 "cells": [
  {
   "cell_type": "code",
   "execution_count": 1,
   "metadata": {},
   "outputs": [],
   "source": [
    "import numpy as np\n",
    "import math\n",
    "from pricing_models import MeanVarianceReturn"
   ]
  },
  {
   "cell_type": "code",
   "execution_count": 3,
   "metadata": {},
   "outputs": [
    {
     "ename": "SyntaxError",
     "evalue": "EOL while scanning string literal (<ipython-input-3-85f25f4ad6d9>, line 13)",
     "output_type": "error",
     "traceback": [
      "\u001b[1;36m  File \u001b[1;32m\"<ipython-input-3-85f25f4ad6d9>\"\u001b[1;36m, line \u001b[1;32m13\u001b[0m\n\u001b[1;33m    print(\"The plot above shows the effecient frontier. \\n\u001b[0m\n\u001b[1;37m                                                          ^\u001b[0m\n\u001b[1;31mSyntaxError\u001b[0m\u001b[1;31m:\u001b[0m EOL while scanning string literal\n"
     ]
    }
   ],
   "source": [
    "# Constant\n",
    "mu = np.array([6,2,4])/100\n",
    "V = np.matrix([[8, -2, 4], [-2, 2, -2], [4, -2, 8]]) * 0.001\n",
    "rf = 0.01\n",
    "x = np.array([1/3, 1/3, 1/3])\n",
    "\n",
    "model = MeanVarianceReturn(mu, V, x);\n",
    "model.plotEfficientFrontier(n_points=25,\n",
    "                             show_cml=True,\n",
    "                             riskfree_rate=rf,\n",
    "                             show_ew=True,\n",
    "                             show_gmv=True)\n",
    "print(\"The plot above shows the effecient frontier.\")\n",
    "print(\"The Capital Market Line is represented by the greed dotted line.\")\n",
    "print(\"The Green Mark represents the Maximum Sharpe Portfolio.\")\n",
    "print(\"The Yellow Mark represents the equally weighted portfolio.\")\n",
    "print(\"The Purple Mark represents the Global Minimum Variance portfolio.\")"
   ]
  },
  {
   "cell_type": "code",
   "execution_count": 3,
   "metadata": {},
   "outputs": [
    {
     "name": "stdout",
     "output_type": "stream",
     "text": [
      "4.0\n"
     ]
    }
   ],
   "source": [
    "def question1():\n",
    "    print(round(model.getMeanReturn()*100, 2))\n",
    "    \n",
    "question1()"
   ]
  },
  {
   "cell_type": "code",
   "execution_count": 4,
   "metadata": {},
   "outputs": [
    {
     "name": "stdout",
     "output_type": "stream",
     "text": [
      "4.47\n"
     ]
    }
   ],
   "source": [
    "def question2():\n",
    "    print(round(model.getVolatility()*100, 2))\n",
    "question2()"
   ]
  },
  {
   "cell_type": "code",
   "execution_count": 5,
   "metadata": {},
   "outputs": [
    {
     "name": "stdout",
     "output_type": "stream",
     "text": [
      "3.0\n"
     ]
    }
   ],
   "source": [
    "def question3():\n",
    "    optimalX = model.globalMinVariance()\n",
    "    (returns, volatility) = model.getReturnVolatiltiy(optimalX)\n",
    "    print(round(returns*100, 2))\n",
    "\n",
    "question3()    "
   ]
  },
  {
   "cell_type": "code",
   "execution_count": 6,
   "metadata": {},
   "outputs": [
    {
     "name": "stdout",
     "output_type": "stream",
     "text": [
      "3.42\n",
      "2.84\n"
     ]
    }
   ],
   "source": [
    "def question45():\n",
    "    optimalX = model.maxSharpeRatio(riskFreeRate=rf)\n",
    "    returns, volatility = model.getReturnVolatiltiy(optimalX)\n",
    "    print(round(returns * 100, 2))\n",
    "    print(round(volatility * 100, 2))\n",
    "\n",
    "question45()"
   ]
  },
  {
   "cell_type": "code",
   "execution_count": 7,
   "metadata": {},
   "outputs": [
    {
     "name": "stdout",
     "output_type": "stream",
     "text": [
      "0.85\n"
     ]
    }
   ],
   "source": [
    "def question6():\n",
    "    slope, yIntercept = model.getCapitalMarketLine(riskFreeRate=rf)\n",
    "    print(round(slope, 2))\n",
    "\n",
    "question6()"
   ]
  },
  {
   "cell_type": "code",
   "execution_count": 8,
   "metadata": {},
   "outputs": [
    {
     "name": "stdout",
     "output_type": "stream",
     "text": [
      "5.26\n"
     ]
    }
   ],
   "source": [
    "def question7():\n",
    "    sigma = 0.05\n",
    "    expectedReturn = model.getMaxReturnCapitalMarketLine(sigma, rf)\n",
    "    print(round(expectedReturn * 100, 2))\n",
    "    \n",
    "question7()"
   ]
  },
  {
   "cell_type": "code",
   "execution_count": null,
   "metadata": {},
   "outputs": [],
   "source": []
  }
 ],
 "metadata": {
  "kernelspec": {
   "display_name": "Python 3",
   "language": "python",
   "name": "python3"
  },
  "language_info": {
   "codemirror_mode": {
    "name": "ipython",
    "version": 3
   },
   "file_extension": ".py",
   "mimetype": "text/x-python",
   "name": "python",
   "nbconvert_exporter": "python",
   "pygments_lexer": "ipython3",
   "version": "3.7.7"
  }
 },
 "nbformat": 4,
 "nbformat_minor": 4
}
