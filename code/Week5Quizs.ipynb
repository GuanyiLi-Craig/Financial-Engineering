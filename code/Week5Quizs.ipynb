{
 "cells": [
  {
   "cell_type": "code",
   "execution_count": 108,
   "metadata": {},
   "outputs": [],
   "source": [
    "# Questions 1-6 should be answered by building an n =n=10-period binomial model for the short-rate, r_{i,j}. \n",
    "# The lattice parameters are: r_{0,0} =5%, u = 1.1, d = 0.9 and q =1-q = 1/2\n",
    "\n",
    "# Q1: Compute the price of a zero-coupon bond (ZCB) that matures at time t = 10 and that has face value 100. \n",
    "\n",
    "# Ans: 61.62\n",
    "\n",
    "# Q2: Compute the price of a forward contract on the same ZCB of the previous question where the \n",
    "#     forward contract matures at time t=4 \n",
    "\n",
    "# Ans: 74.88\n",
    "\n",
    "# Q3: Compute the initial price of a futures contract on the same ZCB of the previous two questions. \n",
    "#     The futures contract has an expiration of t=4.\n",
    "\n",
    "# Ans: 74.82\n",
    "\n",
    "# Q4: Compute the price of an American call option on the same ZCB of the previous three questions. \n",
    "#     The option has expiration t=6 and strike=80.\n",
    "\n",
    "# Ans: 2.36\n",
    "\n",
    "# Q5: Compute the initial value of a forward-starting swap that begins at t=1, with maturity t=10 and \n",
    "#     a fixed rate of 4.5%. (The first payment then takes place at t=2 and the final payment takes place \n",
    "#     at t=11 as we are assuming, as usual, that payments take place in arrears.) You should assume a swap \n",
    "#     notional of 1 million and assume that you receive floating and pay fixed.)\n",
    "\n",
    "# Ans: 33374\n",
    "\n",
    "# Q6: Compute the initial price of a swaption that matures at time t=5 and has a strike of 0. The underlying \n",
    "#     swap is the same swap as described in the previous question with a notional of 1 million. To be clear, \n",
    "#     you should assume that if the swaption is exercised at t=5 then the owner of the swaption will receive \n",
    "#     all cash-flows from the underlying swap from times t=6 to t=11 inclusive. (The swaption strike of 0 \n",
    "#     should also not be confused with the fixed rate of 4.5% on the underlying swap.)\n",
    "\n",
    "# Ans: 26311\n"
   ]
  },
  {
   "cell_type": "code",
   "execution_count": 109,
   "metadata": {},
   "outputs": [],
   "source": [
    "import math\n",
    "import numpy as np"
   ]
  },
  {
   "cell_type": "code",
   "execution_count": 110,
   "metadata": {},
   "outputs": [],
   "source": [
    "def zcb(lattice, faceValue, q, t, u=0, d=0):\n",
    "    if isinstance(lattice, float):\n",
    "        lattice = shortRateLattice(u, d, lattice, t)\n",
    "    tree = np.zeros((t+1, t+1))\n",
    "    tree[t] = np.ones(t+1) * faceValue;\n",
    "    \n",
    "    inv_q = 1 - q;\n",
    "\n",
    "    for i in range(t-1,-1,-1):\n",
    "        for j in range(0,i+1):                 \n",
    "            tree[i][j] = 1/(1+lattice[i][j]) * (q * tree[i+1][j+1] + inv_q * tree[i+1][j])\n",
    "    return tree;\n",
    "\n",
    "def shortRateLattice(u, d, r, t):\n",
    "    tree = np.zeros((t+1, t+1))\n",
    "    for i in range(0,t+1):\n",
    "        for j in range(0,i+1):\n",
    "            tree[i][j] = r * (u ** j) * (d ** (i - j))\n",
    "    return tree\n",
    "\n",
    "def swap(u, d, r, t, K):\n",
    "    lattice = shortRateLattice(u,d,r,t)\n",
    "    tree = np.zeros((t+1, t+1))\n",
    "    tree[t] = (lattice[t] - K) / (1 + lattice[t]) \n",
    "    inv_q = 1 - q;\n",
    "\n",
    "    for i in range(t-1,-1,-1):\n",
    "        for j in range(0,i+1):                 \n",
    "            tree[i][j] = 1/(1+lattice[i][j]) * (lattice[i][j] - K + q * tree[i+1][j+1] + inv_q * tree[i+1][j])\n",
    "\n",
    "    return tree\n",
    "\n",
    "def elementaryPrice(u, d, r, t):\n",
    "    lattice = shortRateLattice(u,d,r,t)\n",
    "    tree = np.zeros((t+1, t+1))\n",
    "    tree[0][0] = 1\n",
    "    for i in range(1,t+1):\n",
    "        for j in range(0,i+1):\n",
    "            pl = 0 if j-1 < 0 else tree[i-1][j-1]\n",
    "            rl = 0 if j-1 < 0 else lattice[i-1][j-1]\n",
    "            tree[i][j] = pl/2/(1+rl) + tree[i-1][j]/2/(1+lattice[i-1][j])\n",
    "    return tree\n"
   ]
  },
  {
   "cell_type": "code",
   "execution_count": 111,
   "metadata": {},
   "outputs": [],
   "source": [
    "# Constant\n",
    "r = 0.05\n",
    "u = 1.1\n",
    "d = 0.9\n",
    "q = 0.5\n",
    "T = 10"
   ]
  },
  {
   "cell_type": "code",
   "execution_count": 112,
   "metadata": {},
   "outputs": [],
   "source": [
    "# Question 1\n",
    "def question1():\n",
    "    t=10\n",
    "    faceValue = 100\n",
    "    \n",
    "    zcbLattice = zcb(r, faceValue, q, t, u, d)\n",
    "    print(zcbLattice[0][0])"
   ]
  },
  {
   "cell_type": "code",
   "execution_count": 113,
   "metadata": {},
   "outputs": [
    {
     "name": "stdout",
     "output_type": "stream",
     "text": [
      "61.62195811754156\n"
     ]
    }
   ],
   "source": [
    "question1()"
   ]
  },
  {
   "cell_type": "code",
   "execution_count": 114,
   "metadata": {},
   "outputs": [],
   "source": [
    "def question2():\n",
    "    t=4\n",
    "    faceValue = 100\n",
    "    \n",
    "    lattice = shortRateLattice(u, d, r, T)\n",
    "    zcbAt10 = zcb(lattice, 1, q, T, u, d)\n",
    "    zcbAt4 = zcb(lattice, 1, q, t, u, d)\n",
    "    \n",
    "    \n",
    "    print(zcbAt10[0][0]/zcbAt4[0][0]*faceValue)"
   ]
  },
  {
   "cell_type": "code",
   "execution_count": 115,
   "metadata": {},
   "outputs": [
    {
     "name": "stdout",
     "output_type": "stream",
     "text": [
      "74.88484493844838\n"
     ]
    }
   ],
   "source": [
    "question2()"
   ]
  },
  {
   "cell_type": "code",
   "execution_count": 116,
   "metadata": {},
   "outputs": [],
   "source": [
    "def question3():\n",
    "    faceValue = 100\n",
    "    t = 4\n",
    "    \n",
    "    zcbLattice = zcb(r, faceValue, q, T, u, d)\n",
    "    tree = np.zeros((t+1, t+1))\n",
    "    tree[t] = zcbLattice[t][0:t+1]\n",
    "    \n",
    "    for i in range(t-1,-1,-1):\n",
    "        for j in range(0,i+1):                 \n",
    "            tree[i][j] = q*tree[i+1][j+1] + (1-q)*tree[i+1][j]\n",
    "    print(tree[0][0])"
   ]
  },
  {
   "cell_type": "code",
   "execution_count": 117,
   "metadata": {},
   "outputs": [
    {
     "name": "stdout",
     "output_type": "stream",
     "text": [
      "74.82458063139569\n"
     ]
    }
   ],
   "source": [
    "question3()"
   ]
  },
  {
   "cell_type": "code",
   "execution_count": 118,
   "metadata": {},
   "outputs": [],
   "source": [
    "def question4():\n",
    "    K = 80\n",
    "    t = 6\n",
    "    faceValue = 100\n",
    "    \n",
    "    l = shortRateLattice(u, d, r, T)\n",
    "    zl = zcb(l, faceValue, q, T, u, d)\n",
    "    tree = np.zeros((t+1, t+1))\n",
    "    tree[t] = np.maximum(0, zl[t][0:t+1]-K)\n",
    "    \n",
    "    for i in range(t-1,-1,-1):\n",
    "        for j in range(0,i+1):                 \n",
    "            tree[i][j] = max(zl[i][j]-K, 1/(1+l[i][j])*(q*tree[i+1][j+1] + (1-q)*tree[i+1][j]))\n",
    "    print(tree[0][0])"
   ]
  },
  {
   "cell_type": "code",
   "execution_count": 119,
   "metadata": {},
   "outputs": [
    {
     "name": "stdout",
     "output_type": "stream",
     "text": [
      "2.35721516382906\n"
     ]
    }
   ],
   "source": [
    "question4()"
   ]
  },
  {
   "cell_type": "code",
   "execution_count": 120,
   "metadata": {},
   "outputs": [],
   "source": [
    "def question5():\n",
    "    tinit = 1\n",
    "    tmatu = 11\n",
    "    rf = 0.045\n",
    "    sn = 1000000\n",
    "\n",
    "    ep = elementaryPrice(u, d, r, T)\n",
    "    rl = shortRateLattice(u, d, r, T)\n",
    "    sum = 0\n",
    "    for i in range(tinit,tmatu):\n",
    "        for j in range(0,i+1):\n",
    "            sum = sum + (rf - rl[i][j])/(1 + rl[i][j])*ep[i][j]\n",
    "    print(abs(sum * sn))"
   ]
  },
  {
   "cell_type": "code",
   "execution_count": 121,
   "metadata": {},
   "outputs": [
    {
     "name": "stdout",
     "output_type": "stream",
     "text": [
      "33374.242062163794\n"
     ]
    }
   ],
   "source": [
    "question5()"
   ]
  },
  {
   "cell_type": "code",
   "execution_count": 122,
   "metadata": {},
   "outputs": [],
   "source": [
    "def question6():\n",
    "    rf = 0.045\n",
    "    t = 5\n",
    "    sn = 1000000\n",
    "    \n",
    "    s = swap(u, d, r, T, rf)\n",
    "    rl = shortRateLattice(u, d, r, T)\n",
    "    tree = np.zeros((t+1, t+1))\n",
    "    tree[t] = np.maximum(s[t][0:t+1], 0)\n",
    "    \n",
    "    for i in range(t-1,-1,-1):\n",
    "        for j in range(0,i+1):                 \n",
    "            tree[i][j] = 1/(1+rl[i][j])*(q*tree[i+1][j+1] + (1-q)*tree[i+1][j])\n",
    "    print(tree[0][0] * sn)\n",
    "    "
   ]
  },
  {
   "cell_type": "code",
   "execution_count": 123,
   "metadata": {},
   "outputs": [
    {
     "name": "stdout",
     "output_type": "stream",
     "text": [
      "26311.07949019227\n"
     ]
    }
   ],
   "source": [
    "question6()"
   ]
  },
  {
   "cell_type": "code",
   "execution_count": null,
   "metadata": {},
   "outputs": [],
   "source": []
  },
  {
   "cell_type": "code",
   "execution_count": null,
   "metadata": {},
   "outputs": [],
   "source": []
  }
 ],
 "metadata": {
  "kernelspec": {
   "display_name": "Python 3",
   "language": "python",
   "name": "python3"
  },
  "language_info": {
   "codemirror_mode": {
    "name": "ipython",
    "version": 3
   },
   "file_extension": ".py",
   "mimetype": "text/x-python",
   "name": "python",
   "nbconvert_exporter": "python",
   "pygments_lexer": "ipython3",
   "version": "3.7.7"
  }
 },
 "nbformat": 4,
 "nbformat_minor": 4
}
